{
 "cells": [
  {
   "cell_type": "code",
   "execution_count": 1,
   "metadata": {
    "collapsed": false
   },
   "outputs": [],
   "source": [
    "import numpy as np"
   ]
  },
  {
   "cell_type": "code",
   "execution_count": 2,
   "metadata": {
    "collapsed": true
   },
   "outputs": [],
   "source": [
    "N = 5\n",
    "M = 4\n",
    "K = 2"
   ]
  },
  {
   "cell_type": "code",
   "execution_count": 3,
   "metadata": {
    "collapsed": false
   },
   "outputs": [],
   "source": [
    "R = np.array([\n",
    " [5,3,0,1],\n",
    " [4,0,0,1],\n",
    " [1,1,0,5],\n",
    " [1,0,0,4],\n",
    " [0,1,5,4]\n",
    "])"
   ]
  },
  {
   "cell_type": "code",
   "execution_count": 4,
   "metadata": {
    "collapsed": false
   },
   "outputs": [
    {
     "data": {
      "text/plain": [
       "3"
      ]
     },
     "execution_count": 4,
     "metadata": {},
     "output_type": "execute_result"
    }
   ],
   "source": [
    "R[0,1]"
   ]
  },
  {
   "cell_type": "code",
   "execution_count": 5,
   "metadata": {
    "collapsed": true
   },
   "outputs": [],
   "source": [
    "def nnmf(R, K=2, loop=5000, a=0.0001, b=0.02):\n",
    "    P = np.random.rand(R.shape[0], K)\n",
    "    Q = np.random.rand(K, R.shape[1])\n",
    "    \n",
    "    for l in xrange(loop):\n",
    "        for i in xrange(R.shape[0]):\n",
    "            for j in xrange(R.shape[1]):\n",
    "                # error\n",
    "                if 0 < R[i,j]:\n",
    "                    \n",
    "                    #error between real R and estimates\n",
    "                    eij = R[i,j] - np.dot(P[i,:], Q[:,j])\n",
    "                \n",
    "                    # update on gradient descents\n",
    "                    P_n = P\n",
    "                    Q_n = Q\n",
    "                    for k in xrange(K):\n",
    "                        #add gradients\n",
    "                        P_n[i,k] = P[i,k] + a*(2*eij*Q[k,j] - b*P[i,k])\n",
    "                        Q_n[k,j] = Q[k,j] + a*(2*eij*P[i,k] - b*Q[k,j])\n",
    "                    \n",
    "                        P[i,k] = P_n[i,k]\n",
    "                        Q[k,j] = Q_n[k,j]\n",
    "    \n",
    "    \n",
    "        # total error check\n",
    "        e_t = 0\n",
    "        for i in xrange(R.shape[0]):\n",
    "            for j in xrange(R.shape[1]):\n",
    "                if 0 < R[i,j]:\n",
    "                    e_t = e_t + pow(R[i,j] - np.dot(P[i,:], Q[:,j]), 2)\n",
    "                    \n",
    "                    for k in xrange(K):\n",
    "                        e_t = e_t + b/2 * ( pow(P[i,k],2) + pow(Q[k,j],2) )\n",
    "        \n",
    "        #escape\n",
    "        if l % 1000 == 0:\n",
    "            print 'loop %s, total error : %s' % (l, e_t)\n",
    "        \n",
    "        if e_t < 0.001:\n",
    "            break\n",
    "            \n",
    "    print 'loop finished. \\n R : \\n', R, '\\n P : \\n', P, '\\n Q : \\n',Q\n",
    "\n"
   ]
  },
  {
   "cell_type": "code",
   "execution_count": 6,
   "metadata": {
    "collapsed": false
   },
   "outputs": [
    {
     "name": "stdout",
     "output_type": "stream",
     "text": [
      "loop 0, total error : 105.880391449\n",
      "loop 1000, total error : 31.3445671915\n",
      "loop 2000, total error : 18.9490838098\n",
      "loop 3000, total error : 7.03287500247\n",
      "loop 4000, total error : 4.11385000047\n",
      "loop 5000, total error : 3.50200790086\n",
      "loop 6000, total error : 3.10815863589\n",
      "loop 7000, total error : 2.78700803466\n",
      "loop 8000, total error : 2.51845747364\n",
      "loop 9000, total error : 2.29396321354\n",
      "loop finished. \n",
      " R : \n",
      "[[5 3 0 1]\n",
      " [4 0 0 1]\n",
      " [1 1 0 5]\n",
      " [1 0 0 4]\n",
      " [0 1 5 4]] \n",
      " P : \n",
      "[[ 0.46203642  2.3490777 ]\n",
      " [ 0.44652817  1.76746808]\n",
      " [ 1.93818106  0.0161685 ]\n",
      " [ 1.55341396  0.02038929]\n",
      " [ 1.58557814  1.22113931]] \n",
      " Q : \n",
      "[[ 0.57342311  0.27042898  1.23551867  2.56959912]\n",
      " [ 2.05954822  1.04650727  2.33058465 -0.0762185 ]]\n"
     ]
    }
   ],
   "source": [
    "nnmf(R, 2, 10000)"
   ]
  },
  {
   "cell_type": "code",
   "execution_count": null,
   "metadata": {
    "collapsed": true
   },
   "outputs": [],
   "source": []
  }
 ],
 "metadata": {
  "kernelspec": {
   "display_name": "Python 2",
   "language": "python",
   "name": "python2"
  },
  "language_info": {
   "codemirror_mode": {
    "name": "ipython",
    "version": 2
   },
   "file_extension": ".py",
   "mimetype": "text/x-python",
   "name": "python",
   "nbconvert_exporter": "python",
   "pygments_lexer": "ipython2",
   "version": "2.7.11"
  }
 },
 "nbformat": 4,
 "nbformat_minor": 0
}
